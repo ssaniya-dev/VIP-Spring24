{
 "cells": [
  {
   "cell_type": "code",
   "execution_count": 1,
   "metadata": {},
   "outputs": [
    {
     "name": "stderr",
     "output_type": "stream",
     "text": [
      "/Users/chanwookim/anaconda3/lib/python3.10/site-packages/tqdm/auto.py:22: TqdmWarning: IProgress not found. Please update jupyter and ipywidgets. See https://ipywidgets.readthedocs.io/en/stable/user_install.html\n",
      "  from .autonotebook import tqdm as notebook_tqdm\n"
     ]
    }
   ],
   "source": [
    "import pandas as pd\n",
    "import numpy as np\n",
    "import torch\n",
    "from transformers import BertTokenizer, BertModel\n",
    "import matplotlib.pyplot as plt\n",
    "import seaborn as sns"
   ]
  },
  {
   "cell_type": "code",
   "execution_count": 2,
   "metadata": {},
   "outputs": [
    {
     "name": "stderr",
     "output_type": "stream",
     "text": [
      "Downloading: 100%|██████████| 232k/232k [00:00<00:00, 8.69MB/s]\n",
      "Downloading: 100%|██████████| 28.0/28.0 [00:00<00:00, 20.1kB/s]\n",
      "Downloading: 100%|██████████| 570/570 [00:00<00:00, 592kB/s]\n",
      "Downloading: 100%|██████████| 440M/440M [00:28<00:00, 15.3MB/s] \n",
      "Some weights of the model checkpoint at bert-base-uncased were not used when initializing BertModel: ['cls.predictions.bias', 'cls.seq_relationship.weight', 'cls.predictions.transform.LayerNorm.bias', 'cls.predictions.transform.dense.weight', 'cls.predictions.transform.LayerNorm.weight', 'cls.seq_relationship.bias', 'cls.predictions.decoder.weight', 'cls.predictions.transform.dense.bias']\n",
      "- This IS expected if you are initializing BertModel from the checkpoint of a model trained on another task or with another architecture (e.g. initializing a BertForSequenceClassification model from a BertForPreTraining model).\n",
      "- This IS NOT expected if you are initializing BertModel from the checkpoint of a model that you expect to be exactly identical (initializing a BertForSequenceClassification model from a BertForSequenceClassification model).\n"
     ]
    }
   ],
   "source": [
    "# Intialize BERT Model\n",
    "\n",
    "tokenizer = BertTokenizer.from_pretrained('bert-base-uncased')\n",
    "model = BertModel.from_pretrained('bert-base-uncased')"
   ]
  },
  {
   "cell_type": "code",
   "execution_count": 3,
   "metadata": {},
   "outputs": [],
   "source": [
    "# setting up the negative keywords related to economic downturn that are used for analyzing FEARS index\n",
    "keywords = [\n",
    "    \"Inflation\", \"Recession\", \"Bankruptcy\", \"Unemployment\", \"Crisis\", \"Decline\",\n",
    "    \"Debt\", \"Deficit\", \"Depreciation\", \"Devaluation\", \"Downgrade\", \"Downturn\",\n",
    "    \"Crash\", \"Collapse\", \"Stagnation\", \"Insolvency\", \"Layoff\", \"Loss\",\n",
    "    \"Risk\", \"Slump\", \"Turbulence\", \"Volatility\", \"Bubble\", \"Default\",\n",
    "    \"Panic\", \"Scarcity\", \"Underperformance\", \"Bearish\", \"Liquidation\", \"Stagflation\"\n",
    "]\n"
   ]
  },
  {
   "cell_type": "code",
   "execution_count": 5,
   "metadata": {},
   "outputs": [],
   "source": [
    "#Tokenize and encode the keywords\n",
    "inputs = tokenizer(keywords, padding=True, truncation=True, return_tensors=\"pt\")"
   ]
  },
  {
   "cell_type": "code",
   "execution_count": 6,
   "metadata": {},
   "outputs": [],
   "source": [
    "# pass the encoded keywords through BERT\n",
    "with torch.no_grad():\n",
    "    otputs = model(**inputs)"
   ]
  },
  {
   "cell_type": "code",
   "execution_count": null,
   "metadata": {},
   "outputs": [],
   "source": [
    "# the outputs will contain the embeddings for the keywords. we can use these embeddings for various downstream tasks like clustering, similarity analysis, or as features in a machine learning model.\n",
    "embeddings = outpus.last_hidden_state\n",
    "print(embeddings)"
   ]
  }
 ],
 "metadata": {
  "kernelspec": {
   "display_name": "base",
   "language": "python",
   "name": "python3"
  },
  "language_info": {
   "codemirror_mode": {
    "name": "ipython",
    "version": 3
   },
   "file_extension": ".py",
   "mimetype": "text/x-python",
   "name": "python",
   "nbconvert_exporter": "python",
   "pygments_lexer": "ipython3",
   "version": "3.10.9"
  }
 },
 "nbformat": 4,
 "nbformat_minor": 2
}
