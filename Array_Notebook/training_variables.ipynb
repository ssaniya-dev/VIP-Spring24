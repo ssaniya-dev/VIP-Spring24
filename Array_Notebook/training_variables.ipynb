{
 "cells": [
  {
   "cell_type": "code",
   "execution_count": 7,
   "metadata": {},
   "outputs": [],
   "source": [
    "import pandas as pd\n",
    "import numpy as np\n",
    "import torch\n",
    "from transformers import BertTokenizer, BertModel\n",
    "import matplotlib.pyplot as plt\n",
    "import seaborn as sns"
   ]
  },
  {
   "cell_type": "code",
   "execution_count": 8,
   "metadata": {},
   "outputs": [
    {
     "name": "stderr",
     "output_type": "stream",
     "text": [
      "Some weights of the model checkpoint at bert-base-uncased were not used when initializing BertModel: ['cls.seq_relationship.bias', 'cls.predictions.bias', 'cls.predictions.decoder.weight', 'cls.seq_relationship.weight', 'cls.predictions.transform.LayerNorm.weight', 'cls.predictions.transform.dense.bias', 'cls.predictions.transform.LayerNorm.bias', 'cls.predictions.transform.dense.weight']\n",
      "- This IS expected if you are initializing BertModel from the checkpoint of a model trained on another task or with another architecture (e.g. initializing a BertForSequenceClassification model from a BertForPreTraining model).\n",
      "- This IS NOT expected if you are initializing BertModel from the checkpoint of a model that you expect to be exactly identical (initializing a BertForSequenceClassification model from a BertForSequenceClassification model).\n"
     ]
    }
   ],
   "source": [
    "# Intialize BERT Model\n",
    "\n",
    "tokenizer = BertTokenizer.from_pretrained('bert-base-uncased')\n",
    "model = BertModel.from_pretrained('bert-base-uncased')"
   ]
  },
  {
   "cell_type": "code",
   "execution_count": 9,
   "metadata": {},
   "outputs": [],
   "source": [
    "# setting up the negative keywords related to economic downturn that are used for analyzing FEARS index\n",
    "keywords = [\n",
    "    \"Inflation\", \"Recession\", \"Bankruptcy\", \"Unemployment\", \"Crisis\", \"Decline\",\n",
    "    \"Debt\", \"Deficit\", \"Depreciation\", \"Devaluation\", \"Downgrade\", \"Downturn\",\n",
    "    \"Crash\", \"Collapse\", \"Stagnation\", \"Insolvency\", \"Layoff\", \"Loss\",\n",
    "    \"Risk\", \"Slump\", \"Turbulence\", \"Volatility\", \"Bubble\", \"Default\",\n",
    "    \"Panic\", \"Scarcity\", \"Underperformance\", \"Bearish\", \"Liquidation\", \"Stagflation\"\n",
    "]\n"
   ]
  },
  {
   "cell_type": "code",
   "execution_count": 10,
   "metadata": {},
   "outputs": [],
   "source": [
    "#Tokenize and encode the keywords\n",
    "inputs = tokenizer(keywords, padding=True, truncation=True, return_tensors=\"pt\")"
   ]
  },
  {
   "cell_type": "code",
   "execution_count": 11,
   "metadata": {},
   "outputs": [],
   "source": [
    "# pass the encoded keywords through BERT\n",
    "with torch.no_grad():\n",
    "    outputs = model(**inputs)"
   ]
  },
  {
   "cell_type": "code",
   "execution_count": 12,
   "metadata": {},
   "outputs": [
    {
     "name": "stdout",
     "output_type": "stream",
     "text": [
      "tensor([[[ 2.3770e-02,  4.5828e-01,  2.0908e-01,  ..., -5.5151e-01,\n",
      "          -1.4852e-01,  6.9389e-01],\n",
      "         [-7.4408e-01,  1.8233e-01,  7.0369e-02,  ..., -8.6355e-02,\n",
      "           4.4981e-01, -9.1600e-02],\n",
      "         [ 8.5303e-01,  4.4853e-02, -1.3271e-01,  ...,  8.4435e-02,\n",
      "          -9.2435e-01, -8.5228e-02],\n",
      "         [ 3.8595e-01,  3.0324e-02,  5.0227e-01,  ..., -2.6491e-01,\n",
      "          -9.6082e-02,  9.7598e-02],\n",
      "         [ 2.3694e-01, -1.0007e-01,  4.0225e-01,  ..., -2.8127e-01,\n",
      "          -1.5125e-01, -3.5505e-02],\n",
      "         [ 4.0635e-01, -9.5907e-02,  4.4301e-01,  ..., -3.3833e-01,\n",
      "          -1.8810e-01,  8.9839e-05]],\n",
      "\n",
      "        [[-4.0819e-01,  9.5364e-02, -1.1065e-01,  ..., -6.0680e-02,\n",
      "           8.3833e-04,  1.1663e-01],\n",
      "         [-8.8832e-01, -6.1526e-01, -4.1771e-01,  ...,  4.3892e-01,\n",
      "           2.9164e-01, -3.6309e-01],\n",
      "         [ 1.0423e+00,  1.2335e-01, -2.1827e-01,  ...,  1.4559e-01,\n",
      "          -9.1235e-01, -1.4132e-01],\n",
      "         [-6.3869e-01,  1.7216e-02,  2.1222e-01,  ..., -1.0593e-01,\n",
      "           8.5292e-02,  9.7997e-02],\n",
      "         [-7.9628e-01, -1.2895e-01,  1.3911e-01,  ...,  4.5271e-02,\n",
      "           1.5739e-01,  9.4373e-02],\n",
      "         [-4.5499e-01, -1.3929e-01,  1.6410e-01,  ..., -8.5549e-02,\n",
      "           7.5786e-02,  8.6830e-02]],\n",
      "\n",
      "        [[-3.6533e-01,  2.8267e-01, -1.9570e-01,  ..., -7.1159e-02,\n",
      "           7.8076e-02,  2.3288e-01],\n",
      "         [-2.4149e-01,  6.5731e-04,  2.5416e-01,  ..., -4.4549e-02,\n",
      "           1.8815e-01, -4.6167e-01],\n",
      "         [ 8.4973e-01,  1.0605e-01, -2.4065e-01,  ...,  2.2551e-02,\n",
      "          -8.3523e-01, -1.5947e-01],\n",
      "         [-2.3678e-01,  2.6120e-02,  2.6101e-01,  ..., -1.9845e-01,\n",
      "           3.2777e-02,  2.4378e-01],\n",
      "         [-3.7716e-01, -1.9164e-01,  1.8880e-01,  ..., -9.5657e-02,\n",
      "           1.1650e-01,  2.1058e-01],\n",
      "         [-2.0494e-01, -4.2349e-02,  2.3237e-01,  ..., -1.8292e-01,\n",
      "           4.1224e-02,  2.1574e-01]],\n",
      "\n",
      "        ...,\n",
      "\n",
      "        [[-5.1771e-01,  2.1034e-01, -4.6757e-01,  ..., -1.4807e-01,\n",
      "           3.3614e-01,  5.5788e-01],\n",
      "         [ 6.4715e-01,  5.3596e-01,  3.2521e-01,  ..., -4.5433e-02,\n",
      "           2.3873e-01, -1.1728e-01],\n",
      "         [-4.3445e-01, -3.9856e-01, -8.1221e-01,  ...,  6.3979e-01,\n",
      "           2.8520e-01, -4.5028e-02],\n",
      "         [ 8.9728e-01,  1.6828e-01, -3.9216e-01,  ...,  1.2033e-01,\n",
      "          -6.1370e-01, -2.2828e-01],\n",
      "         [-1.9759e-01,  1.0749e-01, -1.3945e-01,  ...,  1.7103e-01,\n",
      "           2.0674e-01,  2.6600e-02],\n",
      "         [-4.0592e-01, -3.4207e-01, -3.8382e-01,  ...,  2.3236e-01,\n",
      "           2.3579e-01,  1.9138e-01]],\n",
      "\n",
      "        [[-4.1234e-01,  1.2295e-01, -1.8458e-01,  ..., -6.3896e-02,\n",
      "           1.1300e-01,  2.5270e-01],\n",
      "         [-4.3258e-01, -5.2313e-01, -7.3717e-02,  ...,  1.9140e-01,\n",
      "           2.0836e-01,  4.7334e-02],\n",
      "         [ 9.7164e-01,  1.9422e-01, -2.0897e-01,  ...,  1.0667e-01,\n",
      "          -8.5144e-01, -1.7719e-01],\n",
      "         [-5.3041e-01, -2.5348e-01,  2.9786e-01,  ...,  9.5820e-03,\n",
      "           2.7823e-01,  2.1099e-01],\n",
      "         [-5.6500e-01, -3.0429e-01,  2.2208e-01,  ...,  9.7418e-02,\n",
      "           2.9984e-01,  2.0991e-01],\n",
      "         [-3.8088e-01, -2.5889e-01,  2.3229e-01,  ..., -1.8567e-02,\n",
      "           2.3017e-01,  2.2459e-01]],\n",
      "\n",
      "        [[-8.7569e-01,  1.9313e-01, -5.0401e-01,  ..., -7.6958e-02,\n",
      "          -2.3658e-01,  1.0212e-01],\n",
      "         [-6.2708e-01, -6.2705e-01, -1.6713e-01,  ...,  6.7195e-02,\n",
      "           4.6898e-03, -1.6617e-01],\n",
      "         [-5.8063e-01, -1.1976e-01, -1.3176e-01,  ..., -1.2113e-01,\n",
      "          -9.6547e-01,  7.8601e-02],\n",
      "         [-2.0721e-01, -4.1360e-01, -3.5684e-03,  ...,  6.4337e-02,\n",
      "          -2.9796e-01, -3.8936e-01],\n",
      "         [-1.0026e+00, -1.0323e-01, -6.4514e-01,  ...,  7.3030e-02,\n",
      "          -1.8730e-01, -1.5184e-01],\n",
      "         [ 7.1495e-01,  1.7296e-02, -2.2463e-01,  ...,  2.6338e-01,\n",
      "          -6.6863e-01, -3.9653e-01]]])\n"
     ]
    }
   ],
   "source": [
    "# the outputs will contain the embeddings for the keywords. we can use these embeddings for various downstream tasks like clustering, similarity analysis, or as features in a machine learning model.\n",
    "embeddings = outputs.last_hidden_state\n",
    "print(embeddings)"
   ]
  }
 ],
 "metadata": {
  "kernelspec": {
   "display_name": "base",
   "language": "python",
   "name": "python3"
  },
  "language_info": {
   "codemirror_mode": {
    "name": "ipython",
    "version": 3
   },
   "file_extension": ".py",
   "mimetype": "text/x-python",
   "name": "python",
   "nbconvert_exporter": "python",
   "pygments_lexer": "ipython3",
   "version": "3.10.9"
  }
 },
 "nbformat": 4,
 "nbformat_minor": 2
}
