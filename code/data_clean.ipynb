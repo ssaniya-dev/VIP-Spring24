{
 "cells": [
  {
   "cell_type": "code",
   "execution_count": 27,
   "metadata": {},
   "outputs": [],
   "source": [
    "import pandas as pd\n",
    "import os"
   ]
  },
  {
   "cell_type": "code",
   "execution_count": 30,
   "metadata": {},
   "outputs": [],
   "source": [
    "def clean(df):\n",
    "    df['Open'] = pd.to_numeric(df['Open'].str.replace(',', ''))\n",
    "    df['Close'] = pd.to_numeric(df['Close'].str.replace(',', ''))\n",
    "    df['Average'] = (df['Open'] + df['Close']) / 2\n",
    "    df['Date'] = pd.to_datetime(df['Date'])\n",
    "    df_sorted = df.sort_values(by='Date')\n",
    "    weekly_avg = df_sorted.resample('W-Mon', on='Date')['Average'].mean()\n",
    "    weekly_avg_change = weekly_avg.diff()\n",
    "    weekly_avg_change.iloc[0] = 0\n",
    "    weekly_avg_change_df = weekly_avg_change.reset_index(name='Weekly_Avg_Change')\n",
    "    output_file_path = 'weekly_avg_change_summary.csv'\n",
    "    header = not os.path.exists(output_file_path)\n",
    "    weekly_avg_change_df.to_csv(output_file_path, mode='a', header=header, index=False)"
   ]
  },
  {
   "cell_type": "code",
   "execution_count": 33,
   "metadata": {},
   "outputs": [],
   "source": [
    "folder_path = '../SP500_data'\n",
    "files = sorted(os.listdir(folder_path), key=lambda x: int(x.split('.')[0]))\n",
    "\n",
    "for file in files:\n",
    "    if file.endswith('.csv'):\n",
    "        file_path = os.path.join(folder_path, file)\n",
    "        df = pd.read_csv(file_path)\n",
    "        clean(df)"
   ]
  }
 ],
 "metadata": {
  "kernelspec": {
   "display_name": "Python 3",
   "language": "python",
   "name": "python3"
  },
  "language_info": {
   "codemirror_mode": {
    "name": "ipython",
    "version": 3
   },
   "file_extension": ".py",
   "mimetype": "text/x-python",
   "name": "python",
   "nbconvert_exporter": "python",
   "pygments_lexer": "ipython3",
   "version": "3.10.13"
  }
 },
 "nbformat": 4,
 "nbformat_minor": 2
}
