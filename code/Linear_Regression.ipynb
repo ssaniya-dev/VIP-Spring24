{
 "cells": [
  {
   "cell_type": "code",
   "execution_count": 10,
   "metadata": {},
   "outputs": [
    {
     "name": "stdout",
     "output_type": "stream",
     "text": [
      "Collecting scikit-learn\n",
      "  Downloading scikit_learn-1.4.1.post1-cp310-cp310-macosx_12_0_arm64.whl.metadata (11 kB)\n",
      "Requirement already satisfied: numpy<2.0,>=1.19.5 in /opt/homebrew/lib/python3.10/site-packages (from scikit-learn) (1.24.1)\n",
      "Requirement already satisfied: scipy>=1.6.0 in /opt/homebrew/lib/python3.10/site-packages (from scikit-learn) (1.10.0)\n",
      "Collecting joblib>=1.2.0 (from scikit-learn)\n",
      "  Downloading joblib-1.3.2-py3-none-any.whl.metadata (5.4 kB)\n",
      "Collecting threadpoolctl>=2.0.0 (from scikit-learn)\n",
      "  Downloading threadpoolctl-3.3.0-py3-none-any.whl.metadata (13 kB)\n",
      "Downloading scikit_learn-1.4.1.post1-cp310-cp310-macosx_12_0_arm64.whl (10.4 MB)\n",
      "\u001b[2K   \u001b[90m━━━━━━━━━━━━━━━━━━━━━━━━━━━━━━━━━━━━━━━━\u001b[0m \u001b[32m10.4/10.4 MB\u001b[0m \u001b[31m13.4 MB/s\u001b[0m eta \u001b[36m0:00:00\u001b[0m00:01\u001b[0m0:01\u001b[0m\n",
      "\u001b[?25hDownloading joblib-1.3.2-py3-none-any.whl (302 kB)\n",
      "\u001b[2K   \u001b[90m━━━━━━━━━━━━━━━━━━━━━━━━━━━━━━━━━━━━━━━━\u001b[0m \u001b[32m302.2/302.2 kB\u001b[0m \u001b[31m16.1 MB/s\u001b[0m eta \u001b[36m0:00:00\u001b[0m\n",
      "\u001b[?25hDownloading threadpoolctl-3.3.0-py3-none-any.whl (17 kB)\n",
      "Installing collected packages: threadpoolctl, joblib, scikit-learn\n",
      "Successfully installed joblib-1.3.2 scikit-learn-1.4.1.post1 threadpoolctl-3.3.0\n",
      "\n",
      "\u001b[1m[\u001b[0m\u001b[34;49mnotice\u001b[0m\u001b[1;39;49m]\u001b[0m\u001b[39;49m A new release of pip is available: \u001b[0m\u001b[31;49m23.3.1\u001b[0m\u001b[39;49m -> \u001b[0m\u001b[32;49m24.0\u001b[0m\n",
      "\u001b[1m[\u001b[0m\u001b[34;49mnotice\u001b[0m\u001b[1;39;49m]\u001b[0m\u001b[39;49m To update, run: \u001b[0m\u001b[32;49mpython3.10 -m pip install --upgrade pip\u001b[0m\n",
      "Note: you may need to restart the kernel to use updated packages.\n"
     ]
    }
   ],
   "source": [
    "pip install -U scikit-learn"
   ]
  },
  {
   "cell_type": "code",
   "execution_count": 11,
   "metadata": {},
   "outputs": [],
   "source": [
    "from sklearn.linear_model import LinearRegression\n",
    "from sklearn.metrics import mean_squared_error\n",
    "\n",
    "# Initialize a simple linear regression model (as an example)\n",
    "model = LinearRegression()\n"
   ]
  },
  {
   "cell_type": "code",
   "execution_count": 5,
   "metadata": {},
   "outputs": [
    {
     "ename": "NameError",
     "evalue": "name 'df' is not defined",
     "output_type": "error",
     "traceback": [
      "\u001b[0;31m---------------------------------------------------------------------------\u001b[0m",
      "\u001b[0;31mNameError\u001b[0m                                 Traceback (most recent call last)",
      "Cell \u001b[0;32mIn[5], line 2\u001b[0m\n\u001b[1;32m      1\u001b[0m \u001b[38;5;66;03m# Start of the rolling window loop\u001b[39;00m\n\u001b[0;32m----> 2\u001b[0m start_date \u001b[38;5;241m=\u001b[39m \u001b[43mdf\u001b[49m\u001b[38;5;241m.\u001b[39mindex\u001b[38;5;241m.\u001b[39mmin()\n\u001b[1;32m      3\u001b[0m end_date \u001b[38;5;241m=\u001b[39m df\u001b[38;5;241m.\u001b[39mindex\u001b[38;5;241m.\u001b[39mmax()\n\u001b[1;32m      5\u001b[0m train_end \u001b[38;5;241m=\u001b[39m start_date \u001b[38;5;241m+\u001b[39m pd\u001b[38;5;241m.\u001b[39mDateOffset(years\u001b[38;5;241m=\u001b[39m\u001b[38;5;241m5\u001b[39m)\n",
      "\u001b[0;31mNameError\u001b[0m: name 'df' is not defined"
     ]
    }
   ],
   "source": [
    "# Start of the rolling window loop\n",
    "start_date = df.index.min()\n",
    "end_date = df.index.max()\n",
    "\n",
    "train_end = start_date + pd.DateOffset(years=5)\n",
    "test_start = train_end"
   ]
  },
  {
   "cell_type": "code",
   "execution_count": null,
   "metadata": {},
   "outputs": [],
   "source": [
    "while test_start < end_date:\n",
    "    # Define the training data based on the current window\n",
    "    train_data = df.loc[start_date + test_start:train_end]\n",
    "    \n",
    "    # Calculate the end of the test period based on the desired test period length\n",
    "    test_end = test_start + pd.DateOffset(years=1)\n",
    "    if test_end > end_date:\n",
    "        test_end = end_date\n",
    "    # Define the test data based on the current window\n",
    "    test_data = df.loc[test_start:test_end]\n",
    "    \n",
    "    # Split the training data into actual training and validation sets (80% training, 20% validation)\n",
    "    split_index = int(len(train_data) * 0.8)\n",
    "    actual_train_data = train_data.iloc[:split_index]\n",
    "    validation_data = train_data.iloc[split_index:]\n",
    "    \n",
    "    # Assuming 'sales' is your target variable, separate features from the target\n",
    "    # This is placeholder code; you'll need to adjust it based on your actual dataset structure\n",
    "    # X_train = actual_train_data.drop('sales', axis=1)\n",
    "    # y_train = actual_train_data['sales']\n",
    "    # X_val = validation_data.drop('sales', axis=1)\n",
    "    # y_val = validation_data['sales']\n",
    "    # X_test = test_data.drop('sales', axis=1)\n",
    "    # y_test = test_data['sales']\n",
    "    \n",
    "    # Placeholder for training the model on X_train, y_train\n",
    "    # model.fit(X_train, y_train)\n",
    "    \n",
    "    # Placeholder for evaluating the model on X_val, y_val\n",
    "    # val_predictions = model.predict(X_val)\n",
    "    # val_score = mean_squared_error(y_val, val_predictions, squared=False)\n",
    "    \n",
    "    # Placeholder for testing the model on X_test, y_test\n",
    "    # test_predictions = model.predict(X_test)\n",
    "    # test_score = mean_squared_error(y_test, test_predictions, squared=False)\n",
    "    \n",
    "    # Placeholder print statements for demonstration purposes\n",
    "    print(f\"Trained on data from {actual_train_data.index.min()} to {actual_train_data.index.max()}.\")\n",
    "    print(f\"Validated on data from {validation_data.index.min()} to {validation_data.index.max()}.\")\n",
    "    print(f\"Tested on data from {test_data.index.min()} to {test_data.index.max()}.\\n\")\n",
    "    # print(f\"Validation MSE: {val_score}\")\n",
    "    # print(f\"Test MSE: {test_score}\\n\")\n",
    "    \n",
    "    # Move the window forward\n",
    "    train_end = test_start\n",
    "    test_start += pd.DateOffset(years=1)"
   ]
  }
 ],
 "metadata": {
  "kernelspec": {
   "display_name": "Python 3",
   "language": "python",
   "name": "python3"
  },
  "language_info": {
   "codemirror_mode": {
    "name": "ipython",
    "version": 3
   },
   "file_extension": ".py",
   "mimetype": "text/x-python",
   "name": "python",
   "nbconvert_exporter": "python",
   "pygments_lexer": "ipython3",
   "version": "3.10.13"
  }
 },
 "nbformat": 4,
 "nbformat_minor": 2
}
